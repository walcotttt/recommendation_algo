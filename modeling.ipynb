{
 "cells": [
  {
   "cell_type": "code",
   "execution_count": null,
   "metadata": {},
   "outputs": [],
   "source": [
    "# import libraries\n",
    "\n",
    "import pandas as pd\n",
    "import numpy as np\n",
    "import matplotlib.pyplot as plt\n",
    "import seaborn as sns\n",
    "\n",
    "from sklearn.cluster import KMeans\n",
    "from scipy.cluster.hierarchy import dendrogram, linkage\n",
    "from sklearn.cluster import AgglomerativeClustering\n",
    "from sklearn.cluster import DBSCAN\n",
    "from sklearn import metrics\n",
    "from sklearn.datasets import make_blobs\n",
    "from sklearn.preprocessing import StandardScaler"
   ]
  },
  {
   "cell_type": "code",
   "execution_count": null,
   "metadata": {},
   "outputs": [],
   "source": [
    "# create an elbow plot of WSS\n",
    "\n",
    "X1 = df.loc[:, ['Age', 'Spending Score (1-100)']].values\n",
    "\n",
    "wcss= []\n",
    "for k in range(1, 11):\n",
    "    # TODO: create a Kmeans object initialized with `k` clusters and `init` parameter of `k-means++`\n",
    "    # DOCUMENTATION: https://scikit-learn.org/stable/modules/generated/sklearn.cluster.KMeans.html\n",
    "    kmeans = KMeans(n_clusters = k, init = 'k-means++')\n",
    "    kmeans.fit(X1)\n",
    "    wcss.append(kmeans.inertia_)\n",
    "\n",
    "plt.figure(figsize = (12, 7))\n",
    "\n",
    "plt.plot(range(1, 11), wcss, linewidth = 2, marker = '8')\n",
    "plt.title('Elbow Plot\\n', fontsize = 20)\n",
    "plt.xlabel('K')\n",
    "plt.ylabel('WCSS')\n",
    "plt.show()"
   ]
  },
  {
   "cell_type": "code",
   "execution_count": null,
   "metadata": {},
   "outputs": [],
   "source": [
    "# create a plot of silhoutte score\n",
    "\n",
    "silhouette = []\n",
    "for k in range(2, 11):\n",
    "    # TODO: create a Kmeans object initialized with `k` clusters and `init` parameter of `k-means++`\n",
    "    kmeans = KMeans(n_clusters = k, init = 'k-means++')\n",
    "    predictions = kmeans.fit_predict(X1)\n",
    "    silhouette.append(metrics.silhouette_score(X1, predictions))\n",
    "\n",
    "plt.figure(figsize = (12, 7))\n",
    "\n",
    "plt.plot(range(2, 11), silhouette, linewidth = 2, marker = '8')\n",
    "plt.title('Silhoutte Plot\\n', fontsize = 20)\n",
    "plt.xlabel('K')\n",
    "plt.ylabel('Silhouette Score')\n",
    "plt.show()"
   ]
  },
  {
   "cell_type": "code",
   "execution_count": null,
   "metadata": {},
   "outputs": [],
   "source": [
    "# TODO: create a new KMeans object with this optimal number of clusters. Name this object `kmeans_scaled`\n",
    "\n",
    "kmeans_scaled = ...\n",
    "\n",
    "# TODO: fit this KMeans object on your data\n",
    "\n",
    "..."
   ]
  },
  {
   "cell_type": "code",
   "execution_count": null,
   "metadata": {},
   "outputs": [],
   "source": [
    "#TODO: Generate labels for the  dataset\n",
    "\n",
    "labels = ...\n",
    "labels"
   ]
  },
  {
   "cell_type": "code",
   "execution_count": null,
   "metadata": {},
   "outputs": [],
   "source": [
    "# TODO: output the centroids of your clusters\n",
    "\n",
    "..."
   ]
  },
  {
   "cell_type": "code",
   "execution_count": null,
   "metadata": {},
   "outputs": [],
   "source": [
    "# view 2D clusters\n",
    "\n",
    "plt.figure(figsize = (14, 8))\n",
    "\n",
    "plt.scatter(X1_scaled[:, 0], X1_scaled[:, 1], c = kmeans_scaled.labels_, s = 105)\n",
    "plt.scatter(kmeans_scaled.cluster_centers_[:, 0], kmeans_scaled.cluster_centers_[:, 1], color = 'red', s = 250)\n",
    "plt.title('Clusters of Customers\\n', fontsize = 20)\n",
    "plt.xlabel('Age')\n",
    "plt.ylabel('Spending Score (1-100)')\n",
    "plt.show()"
   ]
  }
 ],
 "metadata": {
  "language_info": {
   "name": "python"
  }
 },
 "nbformat": 4,
 "nbformat_minor": 2
}
